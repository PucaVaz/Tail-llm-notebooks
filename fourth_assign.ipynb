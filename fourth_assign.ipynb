{
  "cells": [
    {
      "cell_type": "markdown",
      "metadata": {},
      "source": [
        "# Fourth assing of LLM group from 2024.2\n",
        "On this notebook, we going made a simple rag, that will retrive information using chromadb"
      ]
    },
    {
      "cell_type": "markdown",
      "metadata": {
        "id": "Wmc1TDY1XtQ1"
      },
      "source": [
        "## Setting up the collection\n",
        "\n",
        "- [check others embedding functions](https://docs.trychroma.com/guides/embeddings)"
      ]
    },
    {
      "cell_type": "code",
      "execution_count": null,
      "metadata": {},
      "outputs": [],
      "source": [
        "%pip install chromadb sentence_transformers openai groq"
      ]
    },
    {
      "cell_type": "code",
      "execution_count": 41,
      "metadata": {
        "colab": {
          "base_uri": "https://localhost:8080/",
          "height": 378
        },
        "collapsed": true,
        "id": "kUDwRPDVNbhK",
        "outputId": "3d30ffb6-2859-40a8-dd87-406cfa663d8f"
      },
      "outputs": [],
      "source": [
        "import chromadb\n",
        "from chromadb.config import Settings\n",
        "from chromadb.utils import embedding_functions\n",
        "\n",
        "\n",
        "chroma_client = chromadb.Client(settings=Settings(allow_reset=True))\n",
        "\n",
        "chroma_client.reset()\n",
        "\n",
        "embedding_function = embedding_functions.SentenceTransformerEmbeddingFunction(\n",
        "    model_name=\"all-MiniLM-L6-v2\"\n",
        ")\n",
        "\n",
        "collection = chroma_client.create_collection(name=\"capitaes_de_areia\", embedding_function=embedding_function)\n"
      ]
    },
    {
      "cell_type": "code",
      "execution_count": 42,
      "metadata": {},
      "outputs": [],
      "source": [
        "from groq import Groq\n",
        "client_groq = Groq()"
      ]
    },
    {
      "cell_type": "code",
      "execution_count": 43,
      "metadata": {},
      "outputs": [],
      "source": [
        "\n",
        "def generate_summary (client, messages, model):\n",
        "    completion = client.chat.completions.create(\n",
        "        model=model,\n",
        "        messages=messages,\n",
        "        temperature=1,\n",
        "        max_tokens=1024,\n",
        "        top_p=1,\n",
        "        stream=False,\n",
        "        stop=None,\n",
        "    )\n",
        "\n",
        "    return(completion.choices[0].message.content)\n",
        "\n",
        "\n"
      ]
    },
    {
      "cell_type": "markdown",
      "metadata": {
        "id": "Tn30i7YLX1OV"
      },
      "source": [
        "## Getting the data\n",
        "\n",
        "- In our case, from webscrapping"
      ]
    },
    {
      "cell_type": "code",
      "execution_count": 44,
      "metadata": {
        "id": "Gvrw73jwNyY2"
      },
      "outputs": [],
      "source": [
        "resumo1 = \"\"\"\n",
        "Personagens do livro \"Capitães de Areia\" Pedro Bala: líder do bando que teve um caso de amor com Dora. É uma figura central e paternal. Seu pai, chamado de Loiro, foi líder sindical e assassinado por policiais durante uma greve. Mais tarde, torna-se um líder revolucionário comunista. Professor: seu nome é João José. Ele é sonhador e muito talentoso. Rouba livros para apresentar histórias aos meninos do bando. Alimenta seu amor por Dora, a garota de João Bala. Representa a parte intelectual do grupo, planejando os roubos. Mais tarde, torna-se um pintor e passa a viver no Rio de Janeiro. Padre José Pedro: auxilia e prega a palavra de Deus aos meninos de rua. Mais tarde, mudou-se para o sertão. Mãe de Santo: Aninha é mãe de santo da religião africana chamada candomblé. É amiga dos garotos e, por vezes, aconselha o bando. Volta Seca: se junta ao grupo de Lampião e torna-se cangaceiro. No entanto, foi capturado e condenado. João Grande: menino alto e corajoso. Torna-se marinheiro, embarcando num navio de carga do Lloyd. Sem Pernas: um dos integrantes do bando que apresenta grande amargura. Era um deficiente físico que andava coxeando. No fim, ele se suicida quando estava fugindo da polícia. Pirulito: membro que se preocupa com os pecados cometidos. Tornou-se frade, entrando para uma ordem religiosa. Antes era um dos mais cruéis do grupo, no entanto, foi influenciado pelas palavras do padre José. Dora: irmã de Zé Fuinha, Dora tem um caso com Pedro Bala. Ela é vista como uma mãe para o grupo. Após ser capturada, ela morre. Boa Vida: um dos membros mais malandros e conquistadores do grupo. Ele tocava violão e poucas vezes aparecia no trapiche. Dalva: prostituta e amante de Gato. Gato: um dos malandros sedutores do grupo. Tem um caso com Dalva, a prostituta, tornando-se seu cafetão. No fim, mudou-se para ilhéus. Almiro: membro do grupo que morreu de varíola. Barandão: membro do grupo que se torna líder dos capitães de areia. Pedro Bala o nomeia antes de partir com o intuito de ser um líder comunista. Ezequiel: lidera outro grupo de meninos abandonados. Querido de Deus: um capoeirista e amigo do bando. Ensinava capoeira para alguns membros do grupo. Estrutura da obra \"Capitães de Areia\" O romance de Jorge Amado está dividido em três partes: Primeira Parte: composta de onze capítulos. Seu título é: “Sob a lua, num velho trapiche abandonado”.\n",
        "\"\"\"\n",
        "\n",
        "resumo2 = \"\"\"\n",
        "\"Capitães da Areia\", romance de Jorge Amado publicado em 1937, retrata a vida de um grupo de crianças abandonadas que lutam pela sobrevivência nas ruas de Salvador, Bahia. A obra, inserida na segunda fase do modernismo brasileiro, aborda questões sociais profundas através da narrativa desses meninos marginalizados. O romance inicia com uma série de cartas publicadas em jornal, revelando diferentes perspectivas sobre o grupo: das autoridades que os consideram delinquentes, aos que denunciam os abusos que sofrem em reformatórios. A história se desenrola em uma Salvador dividida entre a cidade alta dos ricos e a cidade baixa dos pobres, com forte presença da cultura afro-brasileira. O grupo é liderado por Pedro Bala, filho de um sindicalista morto, que desenvolve gradualmente uma consciência política. Outros personagens marcantes incluem o Professor, intelectual e artista do grupo; Sem-Pernas, um garoto coxo marcado pelo ódio e traumas; Volta-Seca, que admira e eventualmente se junta ao cangaceiro Lampião; Pirulito, que encontra seu caminho na religião; Gato, um pequeno golpista que imita galãs de cinema; e Boa-Vida, o malandro amante de música e capoeira. Jorge Amado, através desses personagens, explora temas como desigualdade social, violência institucional e a luta pela sobrevivência, mostrando como o meio social influencia, mas não determina completamente, o destino dessas crianças. O romance foi considerado controverso em sua época, chegando a ser queimado em praça pública durante o Estado Novo, devido a suas críticas sociais e posicionamento político. A obra retrata não apenas a vida dos meninos de rua, mas também serve como um panorama da sociedade baiana da época, com suas contradições, religiosidade e conflitos sociais.\n",
        "\"\"\"\n",
        "\n",
        "resumo3 = \"\"\"\n",
        "O livro conta a história de um grupo de crianças e adolescentes marginalizados que vivem nas ruas de Salvador, na década de 1930. Eles se autodenominam \"Capitães da Areia\" e são liderados por Pedro Bala, um jovem inteligente e carismático. Pedro Bala e seus amigos vivem em um trapiche abandonado próximo ao porto da cidade. Eles sobrevivem roubando comida, roupas e dinheiro de lojas e turistas. As crianças são perseguidas pela polícia e desprezadas pela sociedade. Enquanto isso, o Padre José Pedro tenta ajudar as crianças e adolescentes, mas encontra muitas barreiras, incluindo a resistência dos próprios Capitães da Areia. Alguns dos meninos começam a questionar a liderança de Pedro Bala e sua estratégia de lutar contra a sociedade. Uma das meninas do grupo, Dora, se apaixona por um dos jovens da gangue, o Sem-Pernas. Eles começam a viver um romance, mas a relação é interrompida quando Sem-Pernas é preso pela polícia. Os Capitães da Areia planejam um grande roubo a uma loja de armas, mas são surpreendidos pela polícia. Durante a fuga, alguns dos meninos são presos e outros são feridos. Pedro Bala é baleado e levado para um hospital, mas foge para não ser capturado. No final, as crianças decidem abandonar a vida de crime e embarcam em um navio em busca de um futuro melhor. Pedro Bala fica para trás e se esconde em um trapiche, enquanto o Padre José Pedro procura por ele. \"Capitães da Areia\" é uma história emocionante sobre a luta pela sobrevivência e a busca por uma vida melhor. O livro retrata a pobreza, a exclusão social e a violência enfrentadas pelas crianças de rua. Jorge Amado escreveu uma obra que se tornou um clássico da literatura brasileira, denunciando as desigualdades sociais e a falta de oportunidades para a juventude marginalizada.\n",
        "\"\"\""
      ]
    },
    {
      "cell_type": "code",
      "execution_count": 45,
      "metadata": {
        "id": "AWlSHIsCBlHG"
      },
      "outputs": [],
      "source": [
        "metadados = [\n",
        "    {\"source\": \"personagens\", },\n",
        "    {\"source\": \"informacoes_obra\",},\n",
        "    {\"source\": \"resumo_historia\"}\n",
        "]"
      ]
    },
    {
      "cell_type": "markdown",
      "metadata": {
        "id": "KXWqSFWcX5Ea"
      },
      "source": [
        "## Adding the data into the collection"
      ]
    },
    {
      "cell_type": "code",
      "execution_count": 46,
      "metadata": {
        "id": "6iH90EUP_mYW"
      },
      "outputs": [],
      "source": [
        "collection.upsert( #add\n",
        "    documents=[\n",
        "        resumo1,\n",
        "        resumo2,\n",
        "        resumo3\n",
        "    ],\n",
        "    ids=[\"id1\", \"id2\",\"id3\"],\n",
        "    metadatas=metadados\n",
        ")"
      ]
    },
    {
      "cell_type": "markdown",
      "metadata": {
        "id": "aHrEsgQKX9AD"
      },
      "source": [
        "## Retreiving information"
      ]
    },
    {
      "cell_type": "code",
      "execution_count": 47,
      "metadata": {
        "colab": {
          "base_uri": "https://localhost:8080/"
        },
        "id": "HcRb9Mg-_uN6",
        "outputId": "57aff604-61f5-4ede-8bb7-3005589a4988"
      },
      "outputs": [
        {
          "name": "stdout",
          "output_type": "stream",
          "text": [
            "{'ids': [['id1', 'id3']], 'distances': [[0.9212573766708374, 0.9857515692710876]], 'metadatas': [[{'source': 'personagens'}, {'source': 'resumo_historia'}]], 'embeddings': None, 'documents': [['\\nPersonagens do livro \"Capitães de Areia\" Pedro Bala: líder do bando que teve um caso de amor com Dora. É uma figura central e paternal. Seu pai, chamado de Loiro, foi líder sindical e assassinado por policiais durante uma greve. Mais tarde, torna-se um líder revolucionário comunista. Professor: seu nome é João José. Ele é sonhador e muito talentoso. Rouba livros para apresentar histórias aos meninos do bando. Alimenta seu amor por Dora, a garota de João Bala. Representa a parte intelectual do grupo, planejando os roubos. Mais tarde, torna-se um pintor e passa a viver no Rio de Janeiro. Padre José Pedro: auxilia e prega a palavra de Deus aos meninos de rua. Mais tarde, mudou-se para o sertão. Mãe de Santo: Aninha é mãe de santo da religião africana chamada candomblé. É amiga dos garotos e, por vezes, aconselha o bando. Volta Seca: se junta ao grupo de Lampião e torna-se cangaceiro. No entanto, foi capturado e condenado. João Grande: menino alto e corajoso. Torna-se marinheiro, embarcando num navio de carga do Lloyd. Sem Pernas: um dos integrantes do bando que apresenta grande amargura. Era um deficiente físico que andava coxeando. No fim, ele se suicida quando estava fugindo da polícia. Pirulito: membro que se preocupa com os pecados cometidos. Tornou-se frade, entrando para uma ordem religiosa. Antes era um dos mais cruéis do grupo, no entanto, foi influenciado pelas palavras do padre José. Dora: irmã de Zé Fuinha, Dora tem um caso com Pedro Bala. Ela é vista como uma mãe para o grupo. Após ser capturada, ela morre. Boa Vida: um dos membros mais malandros e conquistadores do grupo. Ele tocava violão e poucas vezes aparecia no trapiche. Dalva: prostituta e amante de Gato. Gato: um dos malandros sedutores do grupo. Tem um caso com Dalva, a prostituta, tornando-se seu cafetão. No fim, mudou-se para ilhéus. Almiro: membro do grupo que morreu de varíola. Barandão: membro do grupo que se torna líder dos capitães de areia. Pedro Bala o nomeia antes de partir com o intuito de ser um líder comunista. Ezequiel: lidera outro grupo de meninos abandonados. Querido de Deus: um capoeirista e amigo do bando. Ensinava capoeira para alguns membros do grupo. Estrutura da obra \"Capitães de Areia\" O romance de Jorge Amado está dividido em três partes: Primeira Parte: composta de onze capítulos. Seu título é: “Sob a lua, num velho trapiche abandonado”.\\n', '\\nO livro conta a história de um grupo de crianças e adolescentes marginalizados que vivem nas ruas de Salvador, na década de 1930. Eles se autodenominam \"Capitães da Areia\" e são liderados por Pedro Bala, um jovem inteligente e carismático. Pedro Bala e seus amigos vivem em um trapiche abandonado próximo ao porto da cidade. Eles sobrevivem roubando comida, roupas e dinheiro de lojas e turistas. As crianças são perseguidas pela polícia e desprezadas pela sociedade. Enquanto isso, o Padre José Pedro tenta ajudar as crianças e adolescentes, mas encontra muitas barreiras, incluindo a resistência dos próprios Capitães da Areia. Alguns dos meninos começam a questionar a liderança de Pedro Bala e sua estratégia de lutar contra a sociedade. Uma das meninas do grupo, Dora, se apaixona por um dos jovens da gangue, o Sem-Pernas. Eles começam a viver um romance, mas a relação é interrompida quando Sem-Pernas é preso pela polícia. Os Capitães da Areia planejam um grande roubo a uma loja de armas, mas são surpreendidos pela polícia. Durante a fuga, alguns dos meninos são presos e outros são feridos. Pedro Bala é baleado e levado para um hospital, mas foge para não ser capturado. No final, as crianças decidem abandonar a vida de crime e embarcam em um navio em busca de um futuro melhor. Pedro Bala fica para trás e se esconde em um trapiche, enquanto o Padre José Pedro procura por ele. \"Capitães da Areia\" é uma história emocionante sobre a luta pela sobrevivência e a busca por uma vida melhor. O livro retrata a pobreza, a exclusão social e a violência enfrentadas pelas crianças de rua. Jorge Amado escreveu uma obra que se tornou um clássico da literatura brasileira, denunciando as desigualdades sociais e a falta de oportunidades para a juventude marginalizada.\\n']], 'uris': None, 'data': None, 'included': ['metadatas', 'documents', 'distances']}\n"
          ]
        }
      ],
      "source": [
        "results = collection.query(\n",
        "    query_texts=[\"Quem é o líder dos capitães de areia?\"],\n",
        "    n_results=2\n",
        ")\n",
        "print(results)"
      ]
    },
    {
      "cell_type": "code",
      "execution_count": 48,
      "metadata": {
        "id": "dEGUKNMU_4US"
      },
      "outputs": [],
      "source": [
        "user_question = \"Quem é o líder dos capitães de areia?\""
      ]
    },
    {
      "cell_type": "code",
      "execution_count": 60,
      "metadata": {},
      "outputs": [
        {
          "name": "stdout",
          "output_type": "stream",
          "text": [
            "personagens\n"
          ]
        }
      ],
      "source": [
        "results = collection.query(\n",
        "    query_texts=[user_question],\n",
        "    n_results=1\n",
        ")\n",
        "for meta in results['metadatas'][0]:\n",
        "    print(meta['source'])"
      ]
    },
    {
      "cell_type": "code",
      "execution_count": 50,
      "metadata": {},
      "outputs": [],
      "source": [
        "messages = [\n",
        "    {\"role\": \"system\", \"content\": \"Your job is to make books summaries.\"},\n",
        "    {\"role\": \"user\", \"content\": user_question}\n",
        "]\n",
        "\n",
        "for doc, meta in zip(results['documents'][0], results['metadatas'][0]):\n",
        "    messages.append({\"role\": \"assistant\", \"content\": f\"Source: {meta['source']}\\n{doc}\"})\n"
      ]
    },
    {
      "cell_type": "code",
      "execution_count": 54,
      "metadata": {},
      "outputs": [],
      "source": [
        "summary = generate_summary(client_groq, messages, \"llama-3.2-1b-preview\")"
      ]
    },
    {
      "cell_type": "code",
      "execution_count": 56,
      "metadata": {},
      "outputs": [
        {
          "name": "stdout",
          "output_type": "stream",
          "text": [
            " \n",
            " O livro \"Capitães da Areia\" tem no centro-seu narrador, Pedro Bala, um jovem que cresceu nas ruas de Salvador na década de 1930. É força e inteligência, com um coração de ouro, que lidera seu grupo de jovens exploradores e lutas contra a sociedade marginalizante.\n"
          ]
        }
      ],
      "source": [
        "print(summary)"
      ]
    },
    {
      "cell_type": "markdown",
      "metadata": {},
      "source": [
        "### Another exemple "
      ]
    },
    {
      "cell_type": "code",
      "execution_count": 80,
      "metadata": {},
      "outputs": [
        {
          "name": "stdout",
          "output_type": "stream",
          "text": [
            "resumo_historia\n",
            "Não, o livro não apresenta personagens delinquentes específicos, mas sim um grupo de crianças e adolescentes marginalizados que vivem nas ruas de Salvador e se autodenominam \"Capitães da Areia\". Eles fazem atividades ilegais para sobreviver, como roubar comida, roupas e dinheiro, mas isso é apresentado como uma consequência da situação de pobreza e exclusão social em que estão inseridos.\n",
            "\n",
            "O personagem Pedro Bala, o líder do grupo, foi apresentado como um jovem inteligente e carismático que tenta lidar com a situação de maneira eficaz. Embora ele esteja envolvido em atividades ilegais, ele não é apresentado como um delinquente travesso.\n",
            "\n",
            "É mais que isso, o livro aborda as consequências da pobreza e da exclusão social na forma como as crianças se desenvolvem e interagem com o mundo ao seu redor. O autor, Jorge Amado, apresenta uma visão crítica da sociedade brasileira da época e destaca as injustiças sociais que contribuem para a situação das crianças de rua.\n"
          ]
        }
      ],
      "source": [
        "user_question = \"Existe algum delinquente no livro?\"\n",
        "results = collection.query(\n",
        "    query_texts=[user_question],\n",
        "    n_results=1\n",
        ")\n",
        "for meta in results['metadatas'][0]:\n",
        "    print(meta['source'])\n",
        "\n",
        "messages = [\n",
        "    {\"role\": \"system\", \"content\": \"Your job is to make books summaries. Use the information below to generate your response\"},\n",
        "]\n",
        "for doc, meta in zip(results['documents'][0], results['metadatas'][0]):\n",
        "    messages.append({\"role\": \"user\", \"content\": f\"Source: {meta['source']}\\n{doc}\"})\n",
        "\n",
        "messages.append({\"role\": \"user\", \"content\": user_question})\n",
        "summary = generate_summary(client_groq, messages, \"llama-3.2-3b-preview\")\n",
        "print(summary)"
      ]
    }
  ],
  "metadata": {
    "colab": {
      "provenance": []
    },
    "kernelspec": {
      "display_name": "Python 3",
      "language": "python",
      "name": "python3"
    },
    "language_info": {
      "codemirror_mode": {
        "name": "ipython",
        "version": 3
      },
      "file_extension": ".py",
      "mimetype": "text/x-python",
      "name": "python",
      "nbconvert_exporter": "python",
      "pygments_lexer": "ipython3",
      "version": "3.10.14"
    }
  },
  "nbformat": 4,
  "nbformat_minor": 0
}
