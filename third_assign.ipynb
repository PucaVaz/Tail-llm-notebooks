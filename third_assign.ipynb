{
 "cells": [
  {
   "cell_type": "markdown",
   "metadata": {},
   "source": [
    "# Third Assign\n",
    "The goal of this notebook is to show how context can improve the LLM response, even on small models\n"
   ]
  },
  {
   "cell_type": "markdown",
   "metadata": {},
   "source": [
    "## Defining groq calls "
   ]
  },
  {
   "cell_type": "code",
   "execution_count": 31,
   "metadata": {},
   "outputs": [],
   "source": [
    "from groq import Groq\n",
    "from IPython.display import Markdown, display\n",
    "\n",
    "o"
   ]
  },
  {
   "cell_type": "code",
   "execution_count": 16,
   "metadata": {},
   "outputs": [],
   "source": [
    "\n",
    "def generate_summary (client, prompt:str, model):\n",
    "    completion = client.chat.completions.create(\n",
    "        model=model,\n",
    "        messages=[\n",
    "            {\n",
    "                \"role\": \"user\",\n",
    "                \"content\": prompt\n",
    "            }\n",
    "        ],\n",
    "        temperature=1,\n",
    "        max_tokens=1024,\n",
    "        top_p=1,\n",
    "        stream=False,\n",
    "        stop=None,\n",
    "    )\n",
    "\n",
    "    return(completion.choices[0].message.content)\n",
    "\n",
    "\n"
   ]
  },
  {
   "cell_type": "markdown",
   "metadata": {},
   "source": [
    "## Using prompts "
   ]
  },
  {
   "cell_type": "code",
   "execution_count": 17,
   "metadata": {},
   "outputs": [],
   "source": [
    "prompt = \"Resuma os principais temas abordados no livro Capitães de areia do autor Jorge Amado e explique como eles se relacionam com a sociedade atual\" \n",
    "models = [\"llama-3.2-1b-preview\", \"llama-3.1-8b-instant\", \"llama-3.2-90b-text-preview\" ]"
   ]
  },
  {
   "cell_type": "code",
   "execution_count": 19,
   "metadata": {},
   "outputs": [
    {
     "name": "stdout",
     "output_type": "stream",
     "text": [
      "\"Capitães de Areia\" é um romance brasileiro escrito por Jorge Amado, publicado originalmente em 1952. Embora o livro tenha sido publicado mais de 60 anos atrás, seus temas continuam relevantes para a sociedade atual. Aqui estão alguns dos principais temas abordados no livro e como eles se relacionam com a sociedade atual:\n",
      "\n",
      "1. **Luta contra a tirania colonial e imperial**: O livro apresenta o movimento dos \"Capitães de Areia\", que são uma mistura de marinheiros, militares e civis que lutassem contra a tirania colonial do Império do Brasil. Essa luta reflete a luta dos homens para independentizar-se de um sistema opressivo.\n",
      "2. **Natureza humana**: O livro explora as profundezas da natureza humana, mostrando como os seres humanos podem ser bons e máusos, belos e terríveis. Isso reflete a complexidade da condição humana e a indeterminabilidade da escolha individual.\n",
      "3. **Identidade e cultura**: A sociedade de Martim de Assis apresenta contrastes entre a vida de \"pintando\" (pornógrafo) e a vida de \"novista\" (castratão). O livro critica a homossexualidade como uma anomia social e explora a influência da cultura sobre a identidade humana.\n",
      "4. **Economia e poder**: A cidade de Nazário de Godoy é um símbolo de industrialidade e comércio, refletindo o colapso econômico do Brasil durante a República Velha. O livro também explora as relações entre o dinheiro e a moralidade, bem como o impacto do comércio sobre a sociedade rural.\n",
      "5. **Liberdade e indivíduo**: O livro é uma defesa da liberdade individual e a busca pela verdade e pela justiça. Isso reflete a luta dos criminosos perigosos contra a justiça e a busca por uma realidade justa e correta.\n",
      "6. **Comunidade e sociedade**: O livro apresenta a vida dos habitantes de Nazário de Godoy como uma sociedade comunitária prática e participativa, onde os homens se reúnem para cantar, dançar e se divertir. Isso reflete a ideia de que a comunidade é fundamental para a saúde e o bem-estar.\n",
      "7. **Conflito entre ordem e liberdade**: A sociedade de \"Capitães de Areia\" é dominada pela ordem, mas é construída sobre a liberdade individual. Isso reflete a visão de que a ordem deve ser respeitada, mas que não deve ser imposta sobre a liberdade humana.\n",
      "\n",
      "Em resumo, \"Capitães de Areia\" é um romance que explora temas universais, como a luta contra a tirania, a natureza humana, a identidade, o poder econômico e a comunidade. Esses temas continuam relevantes para a sociedade atual, onde o debate sobre liberdade, ordem e justiça ainda é muito presente e debateúdo.\n"
     ]
    }
   ],
   "source": [
    "response = generate_summary(client_groq, prompt, models[0])\n",
    "print(response)"
   ]
  },
  {
   "cell_type": "markdown",
   "metadata": {},
   "source": [
    "#### Adding context"
   ]
  },
  {
   "cell_type": "code",
   "execution_count": 32,
   "metadata": {},
   "outputs": [
    {
     "name": "stdout",
     "output_type": "stream",
     "text": [
      "O romance, que retrata o cotidiano de um grupo de meninos de rua, procura mostrar não apenas os assaltos e as atitudes violentas de sua vida bestializada, mas também as aspirações e os pensamentos ingênuos, comuns a qualquer criança.\n",
      "\n",
      "Resumo\n",
      "No início da obra há uma série de reportagens fictícias que explicam a existência de um grupo de menores abandonados e marginalizados que aterrorizam a cidade de Salvador e é conhecido por Capitães da Areia. Após esta introdução, inicia-se a narrativa que gira em torno das peripécias desse grupo que sobrevive basicamente de furtos. Porém, apesar de certa linearidade, a história é contada em função dos destinos de cada integrante do grupo de forma a montar um quebra-cabeça maior.\n",
      "\n",
      "O chefe do grupo Capitães da Areia é um jovem chamado Pedro Bala, um menino loiro e filho de um grevista morto no cais. Tinha ido parar na rua por volta dos cinco anos de idade e desde jovem já se mostrava corajoso e o mais capacitado a se tornar o líder das crianças. O grupo ocupava um trapiche abandonado na praia e era formado por mais de cinquenta crianças, sendo que algumas vão sendo apresentadas aos poucos durante a narrativa.\n",
      "\n",
      "Uma delas era o Professor, que sabia ler e passava as noites lendo livros à luz de vela. Algumas vezes ele lia as histórias para os outros do grupo ou então criava as suas próprias narrativas a partir do que lera. Outra personagem que compõe o grupo é Gato, conhecido assim por ser tido como um dos mais bonitos ali. Quando entrou no grupo um dos meninos tentou se relacionar com ele, mas Gato não quis. Sendo muito vaidoso, tentava andar arrumado na medida do possível e de acordo com sua realidade de menino de rua. Gato se apaixona por uma prostituta chamada Dalva, que irá ter um romance com o jovem após ser abandonada por seu amante.\n",
      "\n",
      "Outra personagem que merece destaque é Sem Pernas, um menino que uma vez fora pego pela polícia e por isso passou a ser um jovem amargo e que odiava a tudo. Por ser manco, às vezes era usado nos assaltos a casas: ele batia nas portas das casas dizendo que era um órfão aleijado e pedia ajuda. Ganhando confiança dos moradores, ele descobria o que tinha de valor na casa e depois relatava aos Capitães da Areia.\n",
      "\n",
      "Por fim, outras personagens são: Volta Seca, que se dizia afilhado de Lampião e sonhava integrar o bando desse; Pirulito, um menino de forte convicção religiosa e que irá abandonar o roubo; Boa Vida, jovem esperto e que se contenta com pouco; e o negro João Grande, que tinha o respeito dos demais do grupo por sua coragem e tamanho. Ao lado dessas personagens centrais que formam o grupo, encontra-se ainda o Padre José Pedro, que era amigo dos meninos e procurava cuidar deles da forma que considerava mais correta, e a mãe-de-santo D. Aninha.\n",
      "\n",
      "Em certo momento da narrativa, a varíola passa a assustar os moradores da cidade. Um dos meninos do grupo contrai a doença e é internado. Nessa altura, surge Dora e Zé Fuinha, cuja mãe também morreu por causa da varíola, e eles passam a integrar o bando. No início alguns jovens tentaram se relacionar com Dora, mas são impedidos por Pedro Bala, Professor e João Grande. Porém, Dora e Pedro Bala passam a ter certo envolvimento amoroso.\n",
      "\n",
      "Certo dia alguns dos meninos foram pegos em um assalto, mas foram protegidos por Pedro Bala e somente ele e Dora foram levados presos. Ela foi levada para um orfanato, enquanto Pedro Bala foi torturado pela polícia e mantido preso em uma solitária por oito dias. Algum tempo depois, os meninos conseguem ajudar Pedro a se livrar do reformatório e partem para libertar Dora também. Porém, encontram-na muito doente e ela passa apenas mais alguns dias com os meninos antes de morrer.\n",
      "\n",
      "Após a morte de Dora o grupo vai sofrendo algumas alterações. Pirulito parte com o Padre José Pedro para trabalhar com ele na igreja, Sem Pernas acaba morrendo em uma fuga da polícia e Gato vai para Ilhéus com Dalva, de quem é cafetão. Já Professor conseguiu entrar em contato com um homem que lhe oferecera ajuda e tornou-se pintor no Rio de Janeiro retratando as crianças baianas. Por fim, Volta Seca conseguiu se tornar um cangaceiro de seu “padrinho” Lampião. Após cometer muitas mortes e crimes, a polícia prende Volta Seca e ele é condenado.\n",
      "\n",
      "Cada vez mais fascinado com as histórias de seu pai sindicalista que morrera em uma greve, Pedro Bala passa a se envolver em greves e lutas a favor do povo. Assim, movido por ideais comunistas e revolucionários, Pedro Bala passa o comando do bando para outro menino e parte para se tornar um militante proletário.\n",
      "\n",
      "Narrador\n",
      "O romance é narrado em terceira pessoa, por um narrador onisciente (que sabe tudo o que ocorre). Essa característica narrativa possibilita que seja cumprida uma tarefa facilmente notada pelo leitor: mostrar o outro lado dos Capitães da Areia. O narrador, ao penetrar na mente dos garotos, apresenta não apenas as atitudes que a vida bestializada os obriga a tomar, mas também as aspirações, os pensamentos ingênuos e puros, comuns a qualquer criança. O narrador não se esforça por ser imparcial; participa com seus comentários, muitas vezes sutis, mas sempre favoráveis aos Capitães da Areia.\n",
      "\n",
      "Personagens\n",
      "A obra não possui um personagem principal. Para indicar um protagonista, o mais apropriado seria apontar o conjunto do bando, ou seja, os Capitães da Areia como grupo. Isso porque as ações não giram em torno de um ou de outro personagem, mas ao redor de todos. Pedro Bala, o líder do bando, não é mais importante para o enredo do que o Sem-Pernas ou o Gato. Pode-se dizer que ele é o líder do bando, mas não lidera o eixo do romance. Daí a idéia de que o protagonista é o elemento coletivo, e cada membro do grupo funciona como uma parte da personalidade, uma faceta desse organismo maior que forma os Capitães da Areia.\n",
      "\n",
      "Pedro Bala: líder dos Capitães da Areia, tem o cabelo loiro e uma cicatriz de navalha no rosto, fruto da luta em que venceu o antigo comandante do bando. Seu pai, conhecido como Loiro, era estivador e liderara uma greve no porto, onde foi assassinado por policiais.\n",
      "\n",
      "Sem-pernas: deficiente físico, possui uma perna coxa. Preso e humilhado por policiais bêbados, que o obrigaram a correr em volta de uma mesa na delegacia até cair extenuado, Sem-Pernas conserva as marcas psicológicas desse episódio, que provocou nele um ódio irrefreável contra tudo e todos, incluindo os próprios integrantes do bando.\n",
      "\n",
      "Gato: é o galã dos Capitães da Areia. Bem-vestido, domina a arte da jogatina, trapaceando, com seu baralho marcado, todos os que se aventuram numa partida contra ele. Além dos furtos e do jogo, Gato consegue dinheiro como cafetão de uma prostituta chamada Dalva.\n",
      "\n",
      "Professor: intelectual do grupo, deu início às leituras depois de um assalto em que roubara alguns livros. Além de entreter os garotos, narrando as aventuras que lê, o Professor ajuda decisivamente Pedro Bala, aconselhando- o no planejamento dos assaltos.\n",
      "\n",
      "Pirulito: era o mais cruel do bando, até que, tocado pelos ensinamentos do padre José Pedro, converte-se à religião. Executa, com os demais, os roubos necessários à sobrevivência, sem jamais deixar de praticar a oração e sua fé em Deus.\n",
      "\n",
      "Boa-vida: o apelido traduz seu caráter indolente e sossegado. Contenta-se com pequenos furtos, o suficiente para contribuir para o bem-estar do grupo, e com algumas mulheres que não interessam mais ao Gato.\n",
      "\n",
      "João Grande: é respeitado pelo grupo em virtude de sua coragem e da grande estatura. Ajuda e protege os novatos do bando contra atos tiranos praticados pelos mais velhos.\n",
      "Volta Seca: admirador do cangaceiro Lampião, a quem chama de padrinho, sonha um dia participar de seu bando.\n",
      "\n",
      "Dora: seus pais morreram, vítimas da varíola, quando tinha apenas 13 anos. É encontrada com seu irmão mais novo, Zé Fuinha, pelo Professor e por João Grande. Ao chegar ao trapiche abandonado, onde os garotos dormem, Dora quase é violentada, mas, tendo sido protegida por João Grande, o grupo a aceita, primeiro como a mãe de que todos careciam, depois como a valente mulher de Pedro Bala.\n",
      "\n",
      "Padre José Pedro: padre de origem humilde, só conseguiu entrar para o seminário por ter sido apadrinhado pelo dono do estabelecimento onde era operário. Discriminado por não possuir a cultura nem a erudição dos colegas, demonstra uma crença religiosa sincera. Por isso, assume a missão de levar conforto espiritual às crianças abandonadas da cidade, das quais os Capitães da Areia são o grande expoente.\n",
      "\n",
      "Querido-de-Deus: grande capoeirista da Bahia, respeita o grupo liderado por Pedro Bala e é respeitado por ele. Ensina sua arte para alguns deles e exerce grande influência sobre os garotos.\n",
      "\n",
      "Sobre Jorge Amado\n",
      "Jorge Amado nasceu em Itabuna (BA), em 10 de agosto de 1912, e passou a infância em Ilhéus. Aos 19 anos surpreendeu a crítica e o público com o lançamento do romance “O País do Carnaval”. Desenvolveu uma literatura politicamente engajada e, nos anos seguintes, publicou “Cacau” (1933), “Suor” (1934), Jubiabá” (1935) e “Capitães da Areia” (1937).\n",
      "\n",
      "Fez os estudos universitários no Rio de Janeiro, formando-se bacharel em ciências jurídicas e sociais. Em 1945 foi eleito deputado federal pelo Partido Comunista Brasileiro (PCB), tendo participado da Assembléia Constituinte de 1946 e da primeira Câmara Federal após o Estado Novo. Perdeu o mandato em 1948, depois que o PCB foi colocado na ilegalidade. Deixou o Brasil e viveu cinco anos na Europa e na Ásia.\n",
      "\n",
      "Com “Gabriela, Cravo e Canela” (1958) iniciou nova fase literária, marcada por um estilo picaresco, de personagens malandros e bufões. Morreu em 6 de agosto de 2001, em Salvador. É o romancista brasileiro mais traduzido e conhecido em todo o mundo.\n",
      "\n",
      "Suas principais obras são: “O país do carnaval” (1930), “Suor” (1934), “Mar Morto” (1936), “Capitães da areia” (1937), “Gabriela, cravo e canela” (1958), “A morte e a morte de Quincas Berro d’Água” (1961), “Dona Flor e seus dois maridos” (1966), “Tieta do agreste” (1977), “Farda, fardão, camisola de dormir” (1979) e muitas outras.\n"
     ]
    }
   ],
   "source": [
    "with open('data/context.txt', 'r', encoding='utf-8') as file:\n",
    "    context = file.read()\n",
    "\n",
    "print(context)"
   ]
  },
  {
   "cell_type": "code",
   "execution_count": 27,
   "metadata": {},
   "outputs": [],
   "source": [
    "prompt += context"
   ]
  },
  {
   "cell_type": "code",
   "execution_count": 30,
   "metadata": {},
   "outputs": [
    {
     "data": {
      "text/markdown": [
       "**Resumo:** \"Capitães da Areia\" é um romance de Jorge Amado que retrata o cotidiano de um grupo de meninos de rua, liderados por Pedro Bala, um jovem deficiente físico e loiro que se torna o líder do grupo. O livro explora as atitudes violentas e bestializadas da vida deles, enquanto também mostra as aspirações e pensamentos ingênuos comuns a qualquer criança.\n",
       "\n",
       "**Personagens:**\n",
       "\n",
       "* Pedro Bala: Líder do grupo, deficiente físico e loiro, que se torna o mais capacitado do grupo para assumir a liderança.\n",
       "* Sem-Pernas: Deficiente físico e mas sábio, que se torna um dos principais personagens do grupo.\n",
       "* Gato: Galã e capoeirista, que se torna um dos principais viciados de assaltos.\n",
       "* Professor: Intelectual e letrado, que compartilha suas leituras com o grupo, tornando-os mais civis.\n",
       "* Pirulito: Mais cruel do grupo, mas converte-se à religião após participar de uma greve.\n",
       "* João Grande: Respeitado pelo grupo, ele ajuda os novatos com sua coragem e estatura.\n",
       "* Dora e Zé Fuinha: Membro do grupo, e seus paismor (filhos da menina Dora) se destacam por sua lealdade e coragem.\n",
       "\n",
       "**Atitudes e Pensamentos:**\n",
       "\n",
       "* O grupo é liderado por Pedro Bala, mas suas escolhas são frequentemente defendidas e justificadas pelos outros membros.\n",
       "* Sem-Pernas apresenta o que é humano e sábio, na sua busca pelo respeito e aceitação.\n",
       "* Gato demonstra o lado mais irreverente e selvagem do grupo, sempre tentando atrair atenção.\n",
       "* Professor é considerado o seu confidente e líder cognitivo, sendo a muda da mente do grupo.\n",
       "* Pirulito se torna um dos mais cruéis, mas por razões mais filosóficas.\n",
       "* João Grande é considerado o seu modelo de comportamento e segurança, apesar de sua grande statura.\n",
       "\n",
       "**Tema:**\n",
       "\n",
       "* A trama da obra explora temas sociais como a marginalização, a exploração econômica e profissional, a objetificação da vulnerabilidade e a superposição de valores sociais entre o grupo e a sociedade.\n",
       "* No entanto, é notável que Amado preferia focar na ideologia política, revolucionária, como a ditadura militar no Brasil, com filosofia da resistência e de luta."
      ],
      "text/plain": [
       "<IPython.core.display.Markdown object>"
      ]
     },
     "metadata": {},
     "output_type": "display_data"
    }
   ],
   "source": [
    "\n",
    "\n",
    "response = generate_summary(client_groq, prompt, model=\"llama-3.2-1b-preview\")\n",
    "display(Markdown(response))"
   ]
  }
 ],
 "metadata": {
  "kernelspec": {
   "display_name": ".venv",
   "language": "python",
   "name": "python3"
  },
  "language_info": {
   "codemirror_mode": {
    "name": "ipython",
    "version": 3
   },
   "file_extension": ".py",
   "mimetype": "text/x-python",
   "name": "python",
   "nbconvert_exporter": "python",
   "pygments_lexer": "ipython3",
   "version": "3.12.6"
  }
 },
 "nbformat": 4,
 "nbformat_minor": 2
}
